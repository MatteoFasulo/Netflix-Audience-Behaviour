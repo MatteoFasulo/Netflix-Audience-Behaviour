{
  "cells": [
    {
      "cell_type": "code",
      "execution_count": 1,
      "metadata": {
        "id": "hkDjh38UIsl3"
      },
      "outputs": [],
      "source": [
        "while True:\n",
        "  try:\n",
        "    import pandas as pd\n",
        "    import numpy as np\n",
        "    from implicit.als import AlternatingLeastSquares\n",
        "    from implicit.nearest_neighbours import bm25_weight\n",
        "    from scipy.sparse import csr_matrix\n",
        "\n",
        "    break\n",
        "  except ModuleNotFoundError:\n",
        "    %pip install implicit"
      ]
    },
    {
      "cell_type": "code",
      "execution_count": 2,
      "metadata": {
        "id": "cN3xTLglIsl7"
      },
      "outputs": [],
      "source": [
        "df = pd.read_csv('vodclickstream_uk_movies_03.csv', encoding='utf-8', index_col=0)"
      ]
    },
    {
      "cell_type": "code",
      "execution_count": 3,
      "metadata": {
        "colab": {
          "base_uri": "https://localhost:8080/",
          "height": 337
        },
        "id": "u3SxbuCpIsl8",
        "outputId": "afa5c4d9-18de-4572-e77c-e665f8d1cea2"
      },
      "outputs": [
        {
          "data": {
            "text/html": [
              "<div>\n",
              "<style scoped>\n",
              "    .dataframe tbody tr th:only-of-type {\n",
              "        vertical-align: middle;\n",
              "    }\n",
              "\n",
              "    .dataframe tbody tr th {\n",
              "        vertical-align: top;\n",
              "    }\n",
              "\n",
              "    .dataframe thead th {\n",
              "        text-align: right;\n",
              "    }\n",
              "</style>\n",
              "<table border=\"1\" class=\"dataframe\">\n",
              "  <thead>\n",
              "    <tr style=\"text-align: right;\">\n",
              "      <th></th>\n",
              "      <th>datetime</th>\n",
              "      <th>duration</th>\n",
              "      <th>title</th>\n",
              "      <th>genres</th>\n",
              "      <th>release_date</th>\n",
              "      <th>movie_id</th>\n",
              "      <th>user_id</th>\n",
              "    </tr>\n",
              "  </thead>\n",
              "  <tbody>\n",
              "    <tr>\n",
              "      <th>58773</th>\n",
              "      <td>2017-01-01 01:15:09</td>\n",
              "      <td>0.0</td>\n",
              "      <td>Angus, Thongs and Perfect Snogging</td>\n",
              "      <td>Comedy, Drama, Romance</td>\n",
              "      <td>2008-07-25</td>\n",
              "      <td>26bd5987e8</td>\n",
              "      <td>1dea19f6fe</td>\n",
              "    </tr>\n",
              "    <tr>\n",
              "      <th>58774</th>\n",
              "      <td>2017-01-01 13:56:02</td>\n",
              "      <td>0.0</td>\n",
              "      <td>The Curse of Sleeping Beauty</td>\n",
              "      <td>Fantasy, Horror, Mystery, Thriller</td>\n",
              "      <td>2016-06-02</td>\n",
              "      <td>f26ed2675e</td>\n",
              "      <td>544dcbc510</td>\n",
              "    </tr>\n",
              "    <tr>\n",
              "      <th>58775</th>\n",
              "      <td>2017-01-01 15:17:47</td>\n",
              "      <td>10530.0</td>\n",
              "      <td>London Has Fallen</td>\n",
              "      <td>Action, Thriller</td>\n",
              "      <td>2016-03-04</td>\n",
              "      <td>f77e500e7a</td>\n",
              "      <td>7cbcc791bf</td>\n",
              "    </tr>\n",
              "    <tr>\n",
              "      <th>58776</th>\n",
              "      <td>2017-01-01 16:04:13</td>\n",
              "      <td>49.0</td>\n",
              "      <td>Vendetta</td>\n",
              "      <td>Action, Drama</td>\n",
              "      <td>2015-06-12</td>\n",
              "      <td>c74aec7673</td>\n",
              "      <td>ebf43c36b6</td>\n",
              "    </tr>\n",
              "    <tr>\n",
              "      <th>58777</th>\n",
              "      <td>2017-01-01 19:16:37</td>\n",
              "      <td>0.0</td>\n",
              "      <td>The SpongeBob SquarePants Movie</td>\n",
              "      <td>Animation, Action, Adventure, Comedy, Family, ...</td>\n",
              "      <td>2004-11-19</td>\n",
              "      <td>a80d6fc2aa</td>\n",
              "      <td>a57c992287</td>\n",
              "    </tr>\n",
              "  </tbody>\n",
              "</table>\n",
              "</div>"
            ],
            "text/plain": [
              "                  datetime  duration                               title  \\\n",
              "58773  2017-01-01 01:15:09       0.0  Angus, Thongs and Perfect Snogging   \n",
              "58774  2017-01-01 13:56:02       0.0        The Curse of Sleeping Beauty   \n",
              "58775  2017-01-01 15:17:47   10530.0                   London Has Fallen   \n",
              "58776  2017-01-01 16:04:13      49.0                            Vendetta   \n",
              "58777  2017-01-01 19:16:37       0.0     The SpongeBob SquarePants Movie   \n",
              "\n",
              "                                                  genres release_date  \\\n",
              "58773                             Comedy, Drama, Romance   2008-07-25   \n",
              "58774                 Fantasy, Horror, Mystery, Thriller   2016-06-02   \n",
              "58775                                   Action, Thriller   2016-03-04   \n",
              "58776                                      Action, Drama   2015-06-12   \n",
              "58777  Animation, Action, Adventure, Comedy, Family, ...   2004-11-19   \n",
              "\n",
              "         movie_id     user_id  \n",
              "58773  26bd5987e8  1dea19f6fe  \n",
              "58774  f26ed2675e  544dcbc510  \n",
              "58775  f77e500e7a  7cbcc791bf  \n",
              "58776  c74aec7673  ebf43c36b6  \n",
              "58777  a80d6fc2aa  a57c992287  "
            ]
          },
          "execution_count": 3,
          "metadata": {},
          "output_type": "execute_result"
        }
      ],
      "source": [
        "df.head()"
      ]
    },
    {
      "attachments": {},
      "cell_type": "markdown",
      "metadata": {
        "id": "fHLUgkRMIsl-"
      },
      "source": [
        "# Duration"
      ]
    },
    {
      "cell_type": "code",
      "execution_count": 4,
      "metadata": {
        "colab": {
          "base_uri": "https://localhost:8080/",
          "height": 206
        },
        "id": "wq6fq2MBIsmA",
        "outputId": "a5eb4a89-0f68-44ac-879a-5b02cdab0295"
      },
      "outputs": [
        {
          "data": {
            "text/html": [
              "<div>\n",
              "<style scoped>\n",
              "    .dataframe tbody tr th:only-of-type {\n",
              "        vertical-align: middle;\n",
              "    }\n",
              "\n",
              "    .dataframe tbody tr th {\n",
              "        vertical-align: top;\n",
              "    }\n",
              "\n",
              "    .dataframe thead th {\n",
              "        text-align: right;\n",
              "    }\n",
              "</style>\n",
              "<table border=\"1\" class=\"dataframe\">\n",
              "  <thead>\n",
              "    <tr style=\"text-align: right;\">\n",
              "      <th></th>\n",
              "      <th>datetime</th>\n",
              "      <th>duration</th>\n",
              "      <th>title</th>\n",
              "      <th>genres</th>\n",
              "      <th>release_date</th>\n",
              "      <th>movie_id</th>\n",
              "      <th>user_id</th>\n",
              "    </tr>\n",
              "  </thead>\n",
              "  <tbody>\n",
              "    <tr>\n",
              "      <th>58775</th>\n",
              "      <td>2017-01-01 15:17:47</td>\n",
              "      <td>10530.0</td>\n",
              "      <td>London Has Fallen</td>\n",
              "      <td>Action, Thriller</td>\n",
              "      <td>2016-03-04</td>\n",
              "      <td>f77e500e7a</td>\n",
              "      <td>7cbcc791bf</td>\n",
              "    </tr>\n",
              "    <tr>\n",
              "      <th>58776</th>\n",
              "      <td>2017-01-01 16:04:13</td>\n",
              "      <td>49.0</td>\n",
              "      <td>Vendetta</td>\n",
              "      <td>Action, Drama</td>\n",
              "      <td>2015-06-12</td>\n",
              "      <td>c74aec7673</td>\n",
              "      <td>ebf43c36b6</td>\n",
              "    </tr>\n",
              "    <tr>\n",
              "      <th>58779</th>\n",
              "      <td>2017-01-01 19:43:06</td>\n",
              "      <td>4903.0</td>\n",
              "      <td>The Water Diviner</td>\n",
              "      <td>Drama, History, War</td>\n",
              "      <td>2014-12-26</td>\n",
              "      <td>7165c2fc94</td>\n",
              "      <td>8e1be40e32</td>\n",
              "    </tr>\n",
              "    <tr>\n",
              "      <th>58781</th>\n",
              "      <td>2017-01-01 19:46:24</td>\n",
              "      <td>3845.0</td>\n",
              "      <td>Ratter</td>\n",
              "      <td>Drama, Horror, Thriller</td>\n",
              "      <td>2016-02-12</td>\n",
              "      <td>c39aae36c3</td>\n",
              "      <td>cff8ea652a</td>\n",
              "    </tr>\n",
              "    <tr>\n",
              "      <th>58784</th>\n",
              "      <td>2017-01-01 20:55:46</td>\n",
              "      <td>6175.0</td>\n",
              "      <td>28 Days</td>\n",
              "      <td>Comedy, Drama</td>\n",
              "      <td>2000-04-14</td>\n",
              "      <td>584bffaf5f</td>\n",
              "      <td>759ae2eac9</td>\n",
              "    </tr>\n",
              "  </tbody>\n",
              "</table>\n",
              "</div>"
            ],
            "text/plain": [
              "                  datetime  duration              title  \\\n",
              "58775  2017-01-01 15:17:47   10530.0  London Has Fallen   \n",
              "58776  2017-01-01 16:04:13      49.0           Vendetta   \n",
              "58779  2017-01-01 19:43:06    4903.0  The Water Diviner   \n",
              "58781  2017-01-01 19:46:24    3845.0             Ratter   \n",
              "58784  2017-01-01 20:55:46    6175.0            28 Days   \n",
              "\n",
              "                        genres release_date    movie_id     user_id  \n",
              "58775         Action, Thriller   2016-03-04  f77e500e7a  7cbcc791bf  \n",
              "58776            Action, Drama   2015-06-12  c74aec7673  ebf43c36b6  \n",
              "58779      Drama, History, War   2014-12-26  7165c2fc94  8e1be40e32  \n",
              "58781  Drama, Horror, Thriller   2016-02-12  c39aae36c3  cff8ea652a  \n",
              "58784            Comedy, Drama   2000-04-14  584bffaf5f  759ae2eac9  "
            ]
          },
          "execution_count": 4,
          "metadata": {},
          "output_type": "execute_result"
        }
      ],
      "source": [
        "df = df[df.duration > 0]\n",
        "df.head()"
      ]
    },
    {
      "cell_type": "code",
      "execution_count": 5,
      "metadata": {
        "colab": {
          "base_uri": "https://localhost:8080/"
        },
        "id": "W5_xTlhmIsmB",
        "outputId": "9834e3d2-16b7-437b-a3cb-88a1b62a2db4"
      },
      "outputs": [
        {
          "name": "stdout",
          "output_type": "stream",
          "text": [
            "Number of users: 109761, Number of movies: 7634\n"
          ]
        }
      ],
      "source": [
        "users, movies = df.user_id.nunique(), df.movie_id.nunique()\n",
        "print('Number of users: {}, Number of movies: {}'.format(users, movies))"
      ]
    },
    {
      "cell_type": "code",
      "execution_count": 6,
      "metadata": {},
      "outputs": [],
      "source": [
        "grouped = df.groupby(['user_id', 'movie_id']).size().reset_index(name='count')\n",
        "user_movie_matrix = grouped.pivot(index='user_id', columns='movie_id', values='count').fillna(0)"
      ]
    },
    {
      "cell_type": "code",
      "execution_count": 7,
      "metadata": {
        "id": "pfLm3SXcIsmE"
      },
      "outputs": [],
      "source": [
        "user_item_matrix = user_movie_matrix.values"
      ]
    },
    {
      "cell_type": "code",
      "execution_count": 8,
      "metadata": {
        "colab": {
          "base_uri": "https://localhost:8080/"
        },
        "id": "_fvM887AIsmE",
        "outputId": "9dd89eb4-beb5-4926-e4d4-95823640bc0b"
      },
      "outputs": [
        {
          "data": {
            "text/plain": [
              "array([[0., 0., 0., ..., 0., 0., 0.],\n",
              "       [0., 0., 0., ..., 0., 0., 0.],\n",
              "       [0., 0., 0., ..., 0., 0., 0.],\n",
              "       ...,\n",
              "       [0., 0., 0., ..., 0., 0., 0.],\n",
              "       [0., 0., 0., ..., 0., 0., 0.],\n",
              "       [0., 0., 0., ..., 0., 0., 0.]])"
            ]
          },
          "execution_count": 8,
          "metadata": {},
          "output_type": "execute_result"
        }
      ],
      "source": [
        "user_item_matrix"
      ]
    },
    {
      "cell_type": "code",
      "execution_count": 9,
      "metadata": {
        "id": "o4tEVxWuIsmE"
      },
      "outputs": [],
      "source": [
        "sparse_user_item = csr_matrix(user_item_matrix)\n",
        "sparse_user_item = bm25_weight(sparse_user_item, K1=100, B=0.8)\n",
        "sparse_user_item = csr_matrix(sparse_user_item)"
      ]
    },
    {
      "cell_type": "code",
      "execution_count": 11,
      "metadata": {
        "id": "Sty85gCUIsmF"
      },
      "outputs": [],
      "source": [
        "model = AlternatingLeastSquares(factors=100, regularization=0.01, iterations=50)"
      ]
    },
    {
      "cell_type": "code",
      "execution_count": 12,
      "metadata": {
        "colab": {
          "base_uri": "https://localhost:8080/",
          "height": 49,
          "referenced_widgets": [
            "5d8fde9667d542a9a92402e5c5e86375",
            "fb4e7682abb143ddb989255ecf54b832",
            "4b608b9464a04fecbdd1ec4289498de4",
            "8dc7596e7ee04eaa89e06bf6c1c3bcc3",
            "31d5473ec1be4b14ae0174705ee16c5b",
            "97a99808579b430f8b06c58afef7b654",
            "a4d7571f71074c09b7538ac339f6df88",
            "a8f59c21e18449438af2304525c615b6",
            "853250c6d44f4233a082a57e17b214e2",
            "c4713cad70eb46f98060331ed0596535",
            "1319ac3f39ee4a52b288baec99f1f6f8"
          ]
        },
        "id": "p86q6lzjIsmF",
        "outputId": "e9aa35ac-5abc-44b4-84f6-61ab966c55f0"
      },
      "outputs": [
        {
          "name": "stderr",
          "output_type": "stream",
          "text": [
            "100%|██████████| 50/50 [04:09<00:00,  5.00s/it]\n"
          ]
        }
      ],
      "source": [
        "model.fit(sparse_user_item)"
      ]
    },
    {
      "cell_type": "code",
      "execution_count": 16,
      "metadata": {},
      "outputs": [],
      "source": [
        "model.save('netflix_als_model')"
      ]
    },
    {
      "cell_type": "code",
      "execution_count": 23,
      "metadata": {
        "id": "c8FHQ404IsmF"
      },
      "outputs": [],
      "source": [
        "movie_ids, scores = model.recommend(0, sparse_user_item[0], N=10, filter_already_liked_items=True)"
      ]
    },
    {
      "attachments": {},
      "cell_type": "markdown",
      "metadata": {
        "id": "VeQ92eoZNOza"
      },
      "source": [
        "# Suggested Movies"
      ]
    },
    {
      "cell_type": "code",
      "execution_count": 24,
      "metadata": {
        "colab": {
          "base_uri": "https://localhost:8080/",
          "height": 581
        },
        "id": "f4Q8RVF-Mz1E",
        "outputId": "67b2cc5e-e8e5-42dc-ce9a-819dddc61a47"
      },
      "outputs": [
        {
          "data": {
            "text/html": [
              "<div>\n",
              "<style scoped>\n",
              "    .dataframe tbody tr th:only-of-type {\n",
              "        vertical-align: middle;\n",
              "    }\n",
              "\n",
              "    .dataframe tbody tr th {\n",
              "        vertical-align: top;\n",
              "    }\n",
              "\n",
              "    .dataframe thead th {\n",
              "        text-align: right;\n",
              "    }\n",
              "</style>\n",
              "<table border=\"1\" class=\"dataframe\">\n",
              "  <thead>\n",
              "    <tr style=\"text-align: right;\">\n",
              "      <th></th>\n",
              "      <th>datetime</th>\n",
              "      <th>duration</th>\n",
              "      <th>title</th>\n",
              "      <th>genres</th>\n",
              "      <th>release_date</th>\n",
              "      <th>movie_id</th>\n",
              "      <th>user_id</th>\n",
              "      <th>scores</th>\n",
              "    </tr>\n",
              "  </thead>\n",
              "  <tbody>\n",
              "    <tr>\n",
              "      <th>69538</th>\n",
              "      <td>2017-02-01 15:48:41</td>\n",
              "      <td>21896.0</td>\n",
              "      <td>Ex Machina</td>\n",
              "      <td>Drama, Mystery, Sci-Fi</td>\n",
              "      <td>2015-04-24</td>\n",
              "      <td>eddd003dbb</td>\n",
              "      <td>9ac1efa3de</td>\n",
              "      <td>0.237930</td>\n",
              "    </tr>\n",
              "    <tr>\n",
              "      <th>63455</th>\n",
              "      <td>2017-01-11 16:25:11</td>\n",
              "      <td>21248.0</td>\n",
              "      <td>The Hunger Games: Catching Fire</td>\n",
              "      <td>Action, Adventure, Mystery, Sci-Fi, Thriller</td>\n",
              "      <td>2013-11-22</td>\n",
              "      <td>16d373f59e</td>\n",
              "      <td>0587802324</td>\n",
              "      <td>0.215420</td>\n",
              "    </tr>\n",
              "    <tr>\n",
              "      <th>69644</th>\n",
              "      <td>2017-02-02 09:34:28</td>\n",
              "      <td>878.0</td>\n",
              "      <td>The Rebound</td>\n",
              "      <td>Comedy, Romance</td>\n",
              "      <td>2009-09-16</td>\n",
              "      <td>fce3d2c448</td>\n",
              "      <td>ae265e8ed4</td>\n",
              "      <td>0.212309</td>\n",
              "    </tr>\n",
              "    <tr>\n",
              "      <th>60856</th>\n",
              "      <td>2017-01-05 20:09:24</td>\n",
              "      <td>4446.0</td>\n",
              "      <td>Killswitch</td>\n",
              "      <td>Documentary, Drama</td>\n",
              "      <td>2014-10-18</td>\n",
              "      <td>4fca5b34a0</td>\n",
              "      <td>1658d78201</td>\n",
              "      <td>0.212091</td>\n",
              "    </tr>\n",
              "    <tr>\n",
              "      <th>61117</th>\n",
              "      <td>2017-01-05 18:23:54</td>\n",
              "      <td>232.0</td>\n",
              "      <td>Dance Flick</td>\n",
              "      <td>Action, Comedy, Music</td>\n",
              "      <td>2009-05-22</td>\n",
              "      <td>58b31713f4</td>\n",
              "      <td>60455cc93f</td>\n",
              "      <td>0.175233</td>\n",
              "    </tr>\n",
              "    <tr>\n",
              "      <th>63547</th>\n",
              "      <td>2017-01-12 01:38:55</td>\n",
              "      <td>207.0</td>\n",
              "      <td>November Rule</td>\n",
              "      <td>Comedy</td>\n",
              "      <td>2015-02-14</td>\n",
              "      <td>336689ad43</td>\n",
              "      <td>f6a0727774</td>\n",
              "      <td>0.166588</td>\n",
              "    </tr>\n",
              "    <tr>\n",
              "      <th>66898</th>\n",
              "      <td>2017-01-22 13:41:10</td>\n",
              "      <td>310.0</td>\n",
              "      <td>Night at the Museum: Secret of the Tomb</td>\n",
              "      <td>Adventure, Comedy, Family, Fantasy</td>\n",
              "      <td>2014-12-19</td>\n",
              "      <td>05cc359218</td>\n",
              "      <td>17db8bc8c7</td>\n",
              "      <td>0.151395</td>\n",
              "    </tr>\n",
              "    <tr>\n",
              "      <th>69465</th>\n",
              "      <td>2017-02-01 19:52:10</td>\n",
              "      <td>699.0</td>\n",
              "      <td>The Book of Life</td>\n",
              "      <td>Animation, Adventure, Comedy, Family, Fantasy,...</td>\n",
              "      <td>2014-10-17</td>\n",
              "      <td>97183b9136</td>\n",
              "      <td>305c2599d9</td>\n",
              "      <td>0.148715</td>\n",
              "    </tr>\n",
              "    <tr>\n",
              "      <th>59841</th>\n",
              "      <td>2017-01-03 08:14:21</td>\n",
              "      <td>4905.0</td>\n",
              "      <td>Escorts</td>\n",
              "      <td>Documentary</td>\n",
              "      <td>2015-05-21</td>\n",
              "      <td>2dfb5d54fe</td>\n",
              "      <td>645b9904c8</td>\n",
              "      <td>0.144690</td>\n",
              "    </tr>\n",
              "    <tr>\n",
              "      <th>63560</th>\n",
              "      <td>2017-01-12 18:43:55</td>\n",
              "      <td>6236.0</td>\n",
              "      <td>Waffle Street</td>\n",
              "      <td>Comedy, Drama</td>\n",
              "      <td>2016-03-15</td>\n",
              "      <td>8aa4f5e56e</td>\n",
              "      <td>dd0ff037b2</td>\n",
              "      <td>0.138185</td>\n",
              "    </tr>\n",
              "  </tbody>\n",
              "</table>\n",
              "</div>"
            ],
            "text/plain": [
              "                  datetime  duration                                    title  \\\n",
              "69538  2017-02-01 15:48:41   21896.0                               Ex Machina   \n",
              "63455  2017-01-11 16:25:11   21248.0          The Hunger Games: Catching Fire   \n",
              "69644  2017-02-02 09:34:28     878.0                              The Rebound   \n",
              "60856  2017-01-05 20:09:24    4446.0                               Killswitch   \n",
              "61117  2017-01-05 18:23:54     232.0                              Dance Flick   \n",
              "63547  2017-01-12 01:38:55     207.0                            November Rule   \n",
              "66898  2017-01-22 13:41:10     310.0  Night at the Museum: Secret of the Tomb   \n",
              "69465  2017-02-01 19:52:10     699.0                         The Book of Life   \n",
              "59841  2017-01-03 08:14:21    4905.0                                  Escorts   \n",
              "63560  2017-01-12 18:43:55    6236.0                            Waffle Street   \n",
              "\n",
              "                                                  genres release_date  \\\n",
              "69538                             Drama, Mystery, Sci-Fi   2015-04-24   \n",
              "63455       Action, Adventure, Mystery, Sci-Fi, Thriller   2013-11-22   \n",
              "69644                                    Comedy, Romance   2009-09-16   \n",
              "60856                                 Documentary, Drama   2014-10-18   \n",
              "61117                              Action, Comedy, Music   2009-05-22   \n",
              "63547                                             Comedy   2015-02-14   \n",
              "66898                 Adventure, Comedy, Family, Fantasy   2014-12-19   \n",
              "69465  Animation, Adventure, Comedy, Family, Fantasy,...   2014-10-17   \n",
              "59841                                        Documentary   2015-05-21   \n",
              "63560                                      Comedy, Drama   2016-03-15   \n",
              "\n",
              "         movie_id     user_id    scores  \n",
              "69538  eddd003dbb  9ac1efa3de  0.237930  \n",
              "63455  16d373f59e  0587802324  0.215420  \n",
              "69644  fce3d2c448  ae265e8ed4  0.212309  \n",
              "60856  4fca5b34a0  1658d78201  0.212091  \n",
              "61117  58b31713f4  60455cc93f  0.175233  \n",
              "63547  336689ad43  f6a0727774  0.166588  \n",
              "66898  05cc359218  17db8bc8c7  0.151395  \n",
              "69465  97183b9136  305c2599d9  0.148715  \n",
              "59841  2dfb5d54fe  645b9904c8  0.144690  \n",
              "63560  8aa4f5e56e  dd0ff037b2  0.138185  "
            ]
          },
          "execution_count": 24,
          "metadata": {},
          "output_type": "execute_result"
        }
      ],
      "source": [
        "suggested_movies = df.iloc[movie_ids].copy()\n",
        "suggested_movies['scores'] = scores\n",
        "suggested_movies"
      ]
    },
    {
      "cell_type": "code",
      "execution_count": 25,
      "metadata": {
        "colab": {
          "base_uri": "https://localhost:8080/"
        },
        "id": "4kG3kz4KM4bz",
        "outputId": "b58725a0-25f6-4dc2-ad48-75940e4cdf59"
      },
      "outputs": [
        {
          "data": {
            "text/plain": [
              "(array([[6898, 3048, 6963, 1386, 1561, 3100, 5273, 6856,  728, 3107],\n",
              "        [5341,  867, 2590, 7194, 3222, 4714, 5305, 5741, 6092, 7498],\n",
              "        [5440, 6173, 3563, 2293, 6462, 4290,  926, 1386, 2043,   96],\n",
              "        [7179, 2634, 6455, 6045, 1789, 1190, 3572, 2759, 4720, 2650],\n",
              "        [6084, 6963, 5810,  688,  463, 5206, 1844, 4144, 2530,  728],\n",
              "        [4251,  119, 2590, 5341, 1154,  103, 7198,  259, 5471, 4177],\n",
              "        [ 461,  772,  477, 5357, 1912, 5393,  728, 5233, 7614, 5014],\n",
              "        [ 605, 6963, 4617, 6069, 7023, 2541, 5444, 5752, 1899, 3053],\n",
              "        [3898, 4231, 6985, 6456, 5381,  368,  556, 6570, 4505, 3301],\n",
              "        [4251, 1876, 1899, 1246, 2080, 6152,  766, 2026,  528, 7362]]),\n",
              " (10, 10))"
            ]
          },
          "execution_count": 25,
          "metadata": {},
          "output_type": "execute_result"
        }
      ],
      "source": [
        "# Make recommendations for the users in the dataset\n",
        "userids = np.arange(10)\n",
        "ids, scores = model.recommend(userids, sparse_user_item[userids], N=10, filter_already_liked_items=True)\n",
        "ids, ids.shape"
      ]
    },
    {
      "cell_type": "code",
      "execution_count": 26,
      "metadata": {
        "colab": {
          "base_uri": "https://localhost:8080/"
        },
        "id": "3w8_QNz4PJPM",
        "outputId": "853a8093-e4f5-4e5f-b367-6bb6354fd9ff"
      },
      "outputs": [
        {
          "data": {
            "text/plain": [
              "(array([32268, 94732, 54987,  8532, 96678]),\n",
              " array([0.69335085, 0.6794188 , 0.6444371 , 0.5874675 , 0.5874673 ],\n",
              "       dtype=float32))"
            ]
          },
          "execution_count": 26,
          "metadata": {},
          "output_type": "execute_result"
        }
      ],
      "source": [
        "ids, scores = model.similar_users(0, N=5, filter_users=[0])\n",
        "ids, scores"
      ]
    },
    {
      "cell_type": "code",
      "execution_count": 27,
      "metadata": {
        "colab": {
          "base_uri": "https://localhost:8080/",
          "height": 175
        },
        "id": "ymj5qQNnPkDD",
        "outputId": "a5052404-96d3-4495-845d-ed1b60fcd1e4"
      },
      "outputs": [
        {
          "data": {
            "text/html": [
              "<div>\n",
              "<style scoped>\n",
              "    .dataframe tbody tr th:only-of-type {\n",
              "        vertical-align: middle;\n",
              "    }\n",
              "\n",
              "    .dataframe tbody tr th {\n",
              "        vertical-align: top;\n",
              "    }\n",
              "\n",
              "    .dataframe thead th {\n",
              "        text-align: right;\n",
              "    }\n",
              "</style>\n",
              "<table border=\"1\" class=\"dataframe\">\n",
              "  <thead>\n",
              "    <tr style=\"text-align: right;\">\n",
              "      <th></th>\n",
              "      <th>datetime</th>\n",
              "      <th>duration</th>\n",
              "      <th>title</th>\n",
              "      <th>genres</th>\n",
              "      <th>release_date</th>\n",
              "      <th>movie_id</th>\n",
              "      <th>user_id</th>\n",
              "    </tr>\n",
              "  </thead>\n",
              "  <tbody>\n",
              "    <tr>\n",
              "      <th>58775</th>\n",
              "      <td>2017-01-01 15:17:47</td>\n",
              "      <td>10530.0</td>\n",
              "      <td>London Has Fallen</td>\n",
              "      <td>Action, Thriller</td>\n",
              "      <td>2016-03-04</td>\n",
              "      <td>f77e500e7a</td>\n",
              "      <td>7cbcc791bf</td>\n",
              "    </tr>\n",
              "    <tr>\n",
              "      <th>58806</th>\n",
              "      <td>2017-01-01 18:13:17</td>\n",
              "      <td>3600.0</td>\n",
              "      <td>London Has Fallen</td>\n",
              "      <td>Action, Thriller</td>\n",
              "      <td>2016-03-04</td>\n",
              "      <td>f77e500e7a</td>\n",
              "      <td>7cbcc791bf</td>\n",
              "    </tr>\n",
              "    <tr>\n",
              "      <th>59748</th>\n",
              "      <td>2017-01-02 00:26:14</td>\n",
              "      <td>3816.0</td>\n",
              "      <td>London Has Fallen</td>\n",
              "      <td>Action, Thriller</td>\n",
              "      <td>2016-03-04</td>\n",
              "      <td>f77e500e7a</td>\n",
              "      <td>7cbcc791bf</td>\n",
              "    </tr>\n",
              "    <tr>\n",
              "      <th>60591</th>\n",
              "      <td>2017-01-04 19:01:15</td>\n",
              "      <td>7366.0</td>\n",
              "      <td>Shrek 2</td>\n",
              "      <td>Animation, Adventure, Comedy, Family, Fantasy,...</td>\n",
              "      <td>2004-05-19</td>\n",
              "      <td>f1fccba87c</td>\n",
              "      <td>7cbcc791bf</td>\n",
              "    </tr>\n",
              "  </tbody>\n",
              "</table>\n",
              "</div>"
            ],
            "text/plain": [
              "                  datetime  duration              title  \\\n",
              "58775  2017-01-01 15:17:47   10530.0  London Has Fallen   \n",
              "58806  2017-01-01 18:13:17    3600.0  London Has Fallen   \n",
              "59748  2017-01-02 00:26:14    3816.0  London Has Fallen   \n",
              "60591  2017-01-04 19:01:15    7366.0            Shrek 2   \n",
              "\n",
              "                                                  genres release_date  \\\n",
              "58775                                   Action, Thriller   2016-03-04   \n",
              "58806                                   Action, Thriller   2016-03-04   \n",
              "59748                                   Action, Thriller   2016-03-04   \n",
              "60591  Animation, Adventure, Comedy, Family, Fantasy,...   2004-05-19   \n",
              "\n",
              "         movie_id     user_id  \n",
              "58775  f77e500e7a  7cbcc791bf  \n",
              "58806  f77e500e7a  7cbcc791bf  \n",
              "59748  f77e500e7a  7cbcc791bf  \n",
              "60591  f1fccba87c  7cbcc791bf  "
            ]
          },
          "execution_count": 27,
          "metadata": {},
          "output_type": "execute_result"
        }
      ],
      "source": [
        "df[df.user_id==df.iloc[0].user_id]"
      ]
    },
    {
      "cell_type": "code",
      "execution_count": 28,
      "metadata": {
        "colab": {
          "base_uri": "https://localhost:8080/"
        },
        "id": "b9MVnrEMQKvw",
        "outputId": "79010a66-d526-422e-cb8a-85da9f375255"
      },
      "outputs": [
        {
          "data": {
            "text/plain": [
              "user_id\n",
              "b15926c011    736\n",
              "779343a3ea    483\n",
              "89fbb087f3    278\n",
              "7c53ece165    186\n",
              "322f2bd4d4    179\n",
              "             ... \n",
              "9783735255      1\n",
              "9784da20d6      1\n",
              "35ebf65066      1\n",
              "97894db61d      1\n",
              "a89fc145e0      1\n",
              "Name: movie_id, Length: 109761, dtype: int64"
            ]
          },
          "execution_count": 28,
          "metadata": {},
          "output_type": "execute_result"
        }
      ],
      "source": [
        "df.groupby('user_id')['movie_id'].count().sort_values(ascending=False)"
      ]
    }
  ],
  "metadata": {
    "accelerator": "GPU",
    "colab": {
      "gpuType": "T4",
      "provenance": []
    },
    "kernelspec": {
      "display_name": "Python 3",
      "name": "python3"
    },
    "language_info": {
      "codemirror_mode": {
        "name": "ipython",
        "version": 3
      },
      "file_extension": ".py",
      "mimetype": "text/x-python",
      "name": "python",
      "nbconvert_exporter": "python",
      "pygments_lexer": "ipython3",
      "version": "3.8.8"
    },
    "orig_nbformat": 4,
    "widgets": {
      "application/vnd.jupyter.widget-state+json": {
        "1319ac3f39ee4a52b288baec99f1f6f8": {
          "model_module": "@jupyter-widgets/controls",
          "model_module_version": "1.5.0",
          "model_name": "DescriptionStyleModel",
          "state": {
            "_model_module": "@jupyter-widgets/controls",
            "_model_module_version": "1.5.0",
            "_model_name": "DescriptionStyleModel",
            "_view_count": null,
            "_view_module": "@jupyter-widgets/base",
            "_view_module_version": "1.2.0",
            "_view_name": "StyleView",
            "description_width": ""
          }
        },
        "31d5473ec1be4b14ae0174705ee16c5b": {
          "model_module": "@jupyter-widgets/base",
          "model_module_version": "1.2.0",
          "model_name": "LayoutModel",
          "state": {
            "_model_module": "@jupyter-widgets/base",
            "_model_module_version": "1.2.0",
            "_model_name": "LayoutModel",
            "_view_count": null,
            "_view_module": "@jupyter-widgets/base",
            "_view_module_version": "1.2.0",
            "_view_name": "LayoutView",
            "align_content": null,
            "align_items": null,
            "align_self": null,
            "border": null,
            "bottom": null,
            "display": null,
            "flex": null,
            "flex_flow": null,
            "grid_area": null,
            "grid_auto_columns": null,
            "grid_auto_flow": null,
            "grid_auto_rows": null,
            "grid_column": null,
            "grid_gap": null,
            "grid_row": null,
            "grid_template_areas": null,
            "grid_template_columns": null,
            "grid_template_rows": null,
            "height": null,
            "justify_content": null,
            "justify_items": null,
            "left": null,
            "margin": null,
            "max_height": null,
            "max_width": null,
            "min_height": null,
            "min_width": null,
            "object_fit": null,
            "object_position": null,
            "order": null,
            "overflow": null,
            "overflow_x": null,
            "overflow_y": null,
            "padding": null,
            "right": null,
            "top": null,
            "visibility": null,
            "width": null
          }
        },
        "4b608b9464a04fecbdd1ec4289498de4": {
          "model_module": "@jupyter-widgets/controls",
          "model_module_version": "1.5.0",
          "model_name": "FloatProgressModel",
          "state": {
            "_dom_classes": [],
            "_model_module": "@jupyter-widgets/controls",
            "_model_module_version": "1.5.0",
            "_model_name": "FloatProgressModel",
            "_view_count": null,
            "_view_module": "@jupyter-widgets/controls",
            "_view_module_version": "1.5.0",
            "_view_name": "ProgressView",
            "bar_style": "success",
            "description": "",
            "description_tooltip": null,
            "layout": "IPY_MODEL_a8f59c21e18449438af2304525c615b6",
            "max": 50,
            "min": 0,
            "orientation": "horizontal",
            "style": "IPY_MODEL_853250c6d44f4233a082a57e17b214e2",
            "value": 50
          }
        },
        "5d8fde9667d542a9a92402e5c5e86375": {
          "model_module": "@jupyter-widgets/controls",
          "model_module_version": "1.5.0",
          "model_name": "HBoxModel",
          "state": {
            "_dom_classes": [],
            "_model_module": "@jupyter-widgets/controls",
            "_model_module_version": "1.5.0",
            "_model_name": "HBoxModel",
            "_view_count": null,
            "_view_module": "@jupyter-widgets/controls",
            "_view_module_version": "1.5.0",
            "_view_name": "HBoxView",
            "box_style": "",
            "children": [
              "IPY_MODEL_fb4e7682abb143ddb989255ecf54b832",
              "IPY_MODEL_4b608b9464a04fecbdd1ec4289498de4",
              "IPY_MODEL_8dc7596e7ee04eaa89e06bf6c1c3bcc3"
            ],
            "layout": "IPY_MODEL_31d5473ec1be4b14ae0174705ee16c5b"
          }
        },
        "853250c6d44f4233a082a57e17b214e2": {
          "model_module": "@jupyter-widgets/controls",
          "model_module_version": "1.5.0",
          "model_name": "ProgressStyleModel",
          "state": {
            "_model_module": "@jupyter-widgets/controls",
            "_model_module_version": "1.5.0",
            "_model_name": "ProgressStyleModel",
            "_view_count": null,
            "_view_module": "@jupyter-widgets/base",
            "_view_module_version": "1.2.0",
            "_view_name": "StyleView",
            "bar_color": null,
            "description_width": ""
          }
        },
        "8dc7596e7ee04eaa89e06bf6c1c3bcc3": {
          "model_module": "@jupyter-widgets/controls",
          "model_module_version": "1.5.0",
          "model_name": "HTMLModel",
          "state": {
            "_dom_classes": [],
            "_model_module": "@jupyter-widgets/controls",
            "_model_module_version": "1.5.0",
            "_model_name": "HTMLModel",
            "_view_count": null,
            "_view_module": "@jupyter-widgets/controls",
            "_view_module_version": "1.5.0",
            "_view_name": "HTMLView",
            "description": "",
            "description_tooltip": null,
            "layout": "IPY_MODEL_c4713cad70eb46f98060331ed0596535",
            "placeholder": "​",
            "style": "IPY_MODEL_1319ac3f39ee4a52b288baec99f1f6f8",
            "value": " 50/50 [00:01&lt;00:00, 36.43it/s]"
          }
        },
        "97a99808579b430f8b06c58afef7b654": {
          "model_module": "@jupyter-widgets/base",
          "model_module_version": "1.2.0",
          "model_name": "LayoutModel",
          "state": {
            "_model_module": "@jupyter-widgets/base",
            "_model_module_version": "1.2.0",
            "_model_name": "LayoutModel",
            "_view_count": null,
            "_view_module": "@jupyter-widgets/base",
            "_view_module_version": "1.2.0",
            "_view_name": "LayoutView",
            "align_content": null,
            "align_items": null,
            "align_self": null,
            "border": null,
            "bottom": null,
            "display": null,
            "flex": null,
            "flex_flow": null,
            "grid_area": null,
            "grid_auto_columns": null,
            "grid_auto_flow": null,
            "grid_auto_rows": null,
            "grid_column": null,
            "grid_gap": null,
            "grid_row": null,
            "grid_template_areas": null,
            "grid_template_columns": null,
            "grid_template_rows": null,
            "height": null,
            "justify_content": null,
            "justify_items": null,
            "left": null,
            "margin": null,
            "max_height": null,
            "max_width": null,
            "min_height": null,
            "min_width": null,
            "object_fit": null,
            "object_position": null,
            "order": null,
            "overflow": null,
            "overflow_x": null,
            "overflow_y": null,
            "padding": null,
            "right": null,
            "top": null,
            "visibility": null,
            "width": null
          }
        },
        "a4d7571f71074c09b7538ac339f6df88": {
          "model_module": "@jupyter-widgets/controls",
          "model_module_version": "1.5.0",
          "model_name": "DescriptionStyleModel",
          "state": {
            "_model_module": "@jupyter-widgets/controls",
            "_model_module_version": "1.5.0",
            "_model_name": "DescriptionStyleModel",
            "_view_count": null,
            "_view_module": "@jupyter-widgets/base",
            "_view_module_version": "1.2.0",
            "_view_name": "StyleView",
            "description_width": ""
          }
        },
        "a8f59c21e18449438af2304525c615b6": {
          "model_module": "@jupyter-widgets/base",
          "model_module_version": "1.2.0",
          "model_name": "LayoutModel",
          "state": {
            "_model_module": "@jupyter-widgets/base",
            "_model_module_version": "1.2.0",
            "_model_name": "LayoutModel",
            "_view_count": null,
            "_view_module": "@jupyter-widgets/base",
            "_view_module_version": "1.2.0",
            "_view_name": "LayoutView",
            "align_content": null,
            "align_items": null,
            "align_self": null,
            "border": null,
            "bottom": null,
            "display": null,
            "flex": null,
            "flex_flow": null,
            "grid_area": null,
            "grid_auto_columns": null,
            "grid_auto_flow": null,
            "grid_auto_rows": null,
            "grid_column": null,
            "grid_gap": null,
            "grid_row": null,
            "grid_template_areas": null,
            "grid_template_columns": null,
            "grid_template_rows": null,
            "height": null,
            "justify_content": null,
            "justify_items": null,
            "left": null,
            "margin": null,
            "max_height": null,
            "max_width": null,
            "min_height": null,
            "min_width": null,
            "object_fit": null,
            "object_position": null,
            "order": null,
            "overflow": null,
            "overflow_x": null,
            "overflow_y": null,
            "padding": null,
            "right": null,
            "top": null,
            "visibility": null,
            "width": null
          }
        },
        "c4713cad70eb46f98060331ed0596535": {
          "model_module": "@jupyter-widgets/base",
          "model_module_version": "1.2.0",
          "model_name": "LayoutModel",
          "state": {
            "_model_module": "@jupyter-widgets/base",
            "_model_module_version": "1.2.0",
            "_model_name": "LayoutModel",
            "_view_count": null,
            "_view_module": "@jupyter-widgets/base",
            "_view_module_version": "1.2.0",
            "_view_name": "LayoutView",
            "align_content": null,
            "align_items": null,
            "align_self": null,
            "border": null,
            "bottom": null,
            "display": null,
            "flex": null,
            "flex_flow": null,
            "grid_area": null,
            "grid_auto_columns": null,
            "grid_auto_flow": null,
            "grid_auto_rows": null,
            "grid_column": null,
            "grid_gap": null,
            "grid_row": null,
            "grid_template_areas": null,
            "grid_template_columns": null,
            "grid_template_rows": null,
            "height": null,
            "justify_content": null,
            "justify_items": null,
            "left": null,
            "margin": null,
            "max_height": null,
            "max_width": null,
            "min_height": null,
            "min_width": null,
            "object_fit": null,
            "object_position": null,
            "order": null,
            "overflow": null,
            "overflow_x": null,
            "overflow_y": null,
            "padding": null,
            "right": null,
            "top": null,
            "visibility": null,
            "width": null
          }
        },
        "fb4e7682abb143ddb989255ecf54b832": {
          "model_module": "@jupyter-widgets/controls",
          "model_module_version": "1.5.0",
          "model_name": "HTMLModel",
          "state": {
            "_dom_classes": [],
            "_model_module": "@jupyter-widgets/controls",
            "_model_module_version": "1.5.0",
            "_model_name": "HTMLModel",
            "_view_count": null,
            "_view_module": "@jupyter-widgets/controls",
            "_view_module_version": "1.5.0",
            "_view_name": "HTMLView",
            "description": "",
            "description_tooltip": null,
            "layout": "IPY_MODEL_97a99808579b430f8b06c58afef7b654",
            "placeholder": "​",
            "style": "IPY_MODEL_a4d7571f71074c09b7538ac339f6df88",
            "value": "100%"
          }
        }
      }
    }
  },
  "nbformat": 4,
  "nbformat_minor": 0
}
