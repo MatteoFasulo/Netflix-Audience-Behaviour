{
 "cells": [
  {
   "cell_type": "code",
   "execution_count": 1,
   "metadata": {},
   "outputs": [],
   "source": [
    "import pandas as pd\n",
    "import numpy as np\n",
    "from implicit.gpu.als import AlternatingLeastSquares\n",
    "from scipy.sparse import csr_matrix"
   ]
  },
  {
   "cell_type": "code",
   "execution_count": 2,
   "metadata": {},
   "outputs": [],
   "source": [
    "df = pd.read_csv('vodclickstream_uk_movies_03.csv', encoding='utf-8', index_col=0)"
   ]
  },
  {
   "cell_type": "code",
   "execution_count": 3,
   "metadata": {},
   "outputs": [
    {
     "data": {
      "text/html": [
       "<div>\n",
       "<style scoped>\n",
       "    .dataframe tbody tr th:only-of-type {\n",
       "        vertical-align: middle;\n",
       "    }\n",
       "\n",
       "    .dataframe tbody tr th {\n",
       "        vertical-align: top;\n",
       "    }\n",
       "\n",
       "    .dataframe thead th {\n",
       "        text-align: right;\n",
       "    }\n",
       "</style>\n",
       "<table border=\"1\" class=\"dataframe\">\n",
       "  <thead>\n",
       "    <tr style=\"text-align: right;\">\n",
       "      <th></th>\n",
       "      <th>datetime</th>\n",
       "      <th>duration</th>\n",
       "      <th>title</th>\n",
       "      <th>genres</th>\n",
       "      <th>release_date</th>\n",
       "      <th>movie_id</th>\n",
       "      <th>user_id</th>\n",
       "    </tr>\n",
       "  </thead>\n",
       "  <tbody>\n",
       "    <tr>\n",
       "      <th>58773</th>\n",
       "      <td>2017-01-01 01:15:09</td>\n",
       "      <td>0.0</td>\n",
       "      <td>Angus, Thongs and Perfect Snogging</td>\n",
       "      <td>Comedy, Drama, Romance</td>\n",
       "      <td>2008-07-25</td>\n",
       "      <td>26bd5987e8</td>\n",
       "      <td>1dea19f6fe</td>\n",
       "    </tr>\n",
       "    <tr>\n",
       "      <th>58774</th>\n",
       "      <td>2017-01-01 13:56:02</td>\n",
       "      <td>0.0</td>\n",
       "      <td>The Curse of Sleeping Beauty</td>\n",
       "      <td>Fantasy, Horror, Mystery, Thriller</td>\n",
       "      <td>2016-06-02</td>\n",
       "      <td>f26ed2675e</td>\n",
       "      <td>544dcbc510</td>\n",
       "    </tr>\n",
       "    <tr>\n",
       "      <th>58775</th>\n",
       "      <td>2017-01-01 15:17:47</td>\n",
       "      <td>10530.0</td>\n",
       "      <td>London Has Fallen</td>\n",
       "      <td>Action, Thriller</td>\n",
       "      <td>2016-03-04</td>\n",
       "      <td>f77e500e7a</td>\n",
       "      <td>7cbcc791bf</td>\n",
       "    </tr>\n",
       "    <tr>\n",
       "      <th>58776</th>\n",
       "      <td>2017-01-01 16:04:13</td>\n",
       "      <td>49.0</td>\n",
       "      <td>Vendetta</td>\n",
       "      <td>Action, Drama</td>\n",
       "      <td>2015-06-12</td>\n",
       "      <td>c74aec7673</td>\n",
       "      <td>ebf43c36b6</td>\n",
       "    </tr>\n",
       "    <tr>\n",
       "      <th>58777</th>\n",
       "      <td>2017-01-01 19:16:37</td>\n",
       "      <td>0.0</td>\n",
       "      <td>The SpongeBob SquarePants Movie</td>\n",
       "      <td>Animation, Action, Adventure, Comedy, Family, ...</td>\n",
       "      <td>2004-11-19</td>\n",
       "      <td>a80d6fc2aa</td>\n",
       "      <td>a57c992287</td>\n",
       "    </tr>\n",
       "  </tbody>\n",
       "</table>\n",
       "</div>"
      ],
      "text/plain": [
       "                  datetime  duration                               title  \\\n",
       "58773  2017-01-01 01:15:09       0.0  Angus, Thongs and Perfect Snogging   \n",
       "58774  2017-01-01 13:56:02       0.0        The Curse of Sleeping Beauty   \n",
       "58775  2017-01-01 15:17:47   10530.0                   London Has Fallen   \n",
       "58776  2017-01-01 16:04:13      49.0                            Vendetta   \n",
       "58777  2017-01-01 19:16:37       0.0     The SpongeBob SquarePants Movie   \n",
       "\n",
       "                                                  genres release_date  \\\n",
       "58773                             Comedy, Drama, Romance   2008-07-25   \n",
       "58774                 Fantasy, Horror, Mystery, Thriller   2016-06-02   \n",
       "58775                                   Action, Thriller   2016-03-04   \n",
       "58776                                      Action, Drama   2015-06-12   \n",
       "58777  Animation, Action, Adventure, Comedy, Family, ...   2004-11-19   \n",
       "\n",
       "         movie_id     user_id  \n",
       "58773  26bd5987e8  1dea19f6fe  \n",
       "58774  f26ed2675e  544dcbc510  \n",
       "58775  f77e500e7a  7cbcc791bf  \n",
       "58776  c74aec7673  ebf43c36b6  \n",
       "58777  a80d6fc2aa  a57c992287  "
      ]
     },
     "execution_count": 3,
     "metadata": {},
     "output_type": "execute_result"
    }
   ],
   "source": [
    "df.head()"
   ]
  },
  {
   "attachments": {},
   "cell_type": "markdown",
   "metadata": {},
   "source": [
    "# Duration"
   ]
  },
  {
   "cell_type": "code",
   "execution_count": 4,
   "metadata": {},
   "outputs": [
    {
     "data": {
      "text/html": [
       "<div>\n",
       "<style scoped>\n",
       "    .dataframe tbody tr th:only-of-type {\n",
       "        vertical-align: middle;\n",
       "    }\n",
       "\n",
       "    .dataframe tbody tr th {\n",
       "        vertical-align: top;\n",
       "    }\n",
       "\n",
       "    .dataframe thead th {\n",
       "        text-align: right;\n",
       "    }\n",
       "</style>\n",
       "<table border=\"1\" class=\"dataframe\">\n",
       "  <thead>\n",
       "    <tr style=\"text-align: right;\">\n",
       "      <th></th>\n",
       "      <th>datetime</th>\n",
       "      <th>duration</th>\n",
       "      <th>title</th>\n",
       "      <th>genres</th>\n",
       "      <th>release_date</th>\n",
       "      <th>movie_id</th>\n",
       "      <th>user_id</th>\n",
       "    </tr>\n",
       "  </thead>\n",
       "  <tbody>\n",
       "    <tr>\n",
       "      <th>58775</th>\n",
       "      <td>2017-01-01 15:17:47</td>\n",
       "      <td>10530.0</td>\n",
       "      <td>London Has Fallen</td>\n",
       "      <td>Action, Thriller</td>\n",
       "      <td>2016-03-04</td>\n",
       "      <td>f77e500e7a</td>\n",
       "      <td>7cbcc791bf</td>\n",
       "    </tr>\n",
       "    <tr>\n",
       "      <th>58776</th>\n",
       "      <td>2017-01-01 16:04:13</td>\n",
       "      <td>49.0</td>\n",
       "      <td>Vendetta</td>\n",
       "      <td>Action, Drama</td>\n",
       "      <td>2015-06-12</td>\n",
       "      <td>c74aec7673</td>\n",
       "      <td>ebf43c36b6</td>\n",
       "    </tr>\n",
       "    <tr>\n",
       "      <th>58779</th>\n",
       "      <td>2017-01-01 19:43:06</td>\n",
       "      <td>4903.0</td>\n",
       "      <td>The Water Diviner</td>\n",
       "      <td>Drama, History, War</td>\n",
       "      <td>2014-12-26</td>\n",
       "      <td>7165c2fc94</td>\n",
       "      <td>8e1be40e32</td>\n",
       "    </tr>\n",
       "    <tr>\n",
       "      <th>58781</th>\n",
       "      <td>2017-01-01 19:46:24</td>\n",
       "      <td>3845.0</td>\n",
       "      <td>Ratter</td>\n",
       "      <td>Drama, Horror, Thriller</td>\n",
       "      <td>2016-02-12</td>\n",
       "      <td>c39aae36c3</td>\n",
       "      <td>cff8ea652a</td>\n",
       "    </tr>\n",
       "    <tr>\n",
       "      <th>58784</th>\n",
       "      <td>2017-01-01 20:55:46</td>\n",
       "      <td>6175.0</td>\n",
       "      <td>28 Days</td>\n",
       "      <td>Comedy, Drama</td>\n",
       "      <td>2000-04-14</td>\n",
       "      <td>584bffaf5f</td>\n",
       "      <td>759ae2eac9</td>\n",
       "    </tr>\n",
       "  </tbody>\n",
       "</table>\n",
       "</div>"
      ],
      "text/plain": [
       "                  datetime  duration              title  \\\n",
       "58775  2017-01-01 15:17:47   10530.0  London Has Fallen   \n",
       "58776  2017-01-01 16:04:13      49.0           Vendetta   \n",
       "58779  2017-01-01 19:43:06    4903.0  The Water Diviner   \n",
       "58781  2017-01-01 19:46:24    3845.0             Ratter   \n",
       "58784  2017-01-01 20:55:46    6175.0            28 Days   \n",
       "\n",
       "                        genres release_date    movie_id     user_id  \n",
       "58775         Action, Thriller   2016-03-04  f77e500e7a  7cbcc791bf  \n",
       "58776            Action, Drama   2015-06-12  c74aec7673  ebf43c36b6  \n",
       "58779      Drama, History, War   2014-12-26  7165c2fc94  8e1be40e32  \n",
       "58781  Drama, Horror, Thriller   2016-02-12  c39aae36c3  cff8ea652a  \n",
       "58784            Comedy, Drama   2000-04-14  584bffaf5f  759ae2eac9  "
      ]
     },
     "execution_count": 4,
     "metadata": {},
     "output_type": "execute_result"
    }
   ],
   "source": [
    "df = df[df.duration > 0]\n",
    "df.head()"
   ]
  },
  {
   "cell_type": "code",
   "execution_count": 5,
   "metadata": {},
   "outputs": [
    {
     "name": "stdout",
     "output_type": "stream",
     "text": [
      "Number of users: 109761, Number of movies: 7634\n"
     ]
    }
   ],
   "source": [
    "users, movies = df.user_id.nunique(), df.movie_id.nunique()\n",
    "print('Number of users: {}, Number of movies: {}'.format(users, movies))"
   ]
  },
  {
   "cell_type": "code",
   "execution_count": 6,
   "metadata": {},
   "outputs": [],
   "source": [
    "df_sorted = df.sort_values(by=['user_id', 'movie_id'])"
   ]
  },
  {
   "cell_type": "code",
   "execution_count": 7,
   "metadata": {},
   "outputs": [],
   "source": [
    "df_agg = df_sorted.groupby(['user_id', 'movie_id']).agg({'duration': 'sum'}).reset_index()"
   ]
  },
  {
   "cell_type": "code",
   "execution_count": 8,
   "metadata": {},
   "outputs": [],
   "source": [
    "pivot_table = df_agg.pivot(index='user_id', columns='movie_id', values='duration')"
   ]
  },
  {
   "cell_type": "code",
   "execution_count": 9,
   "metadata": {},
   "outputs": [],
   "source": [
    "pivot_table.fillna(0, inplace=True)"
   ]
  },
  {
   "cell_type": "code",
   "execution_count": 10,
   "metadata": {},
   "outputs": [],
   "source": [
    "user_item_matrix = pivot_table.values"
   ]
  },
  {
   "cell_type": "code",
   "execution_count": 11,
   "metadata": {},
   "outputs": [],
   "source": [
    "user_item_matrix[user_item_matrix > 0] = 1"
   ]
  },
  {
   "cell_type": "code",
   "execution_count": 12,
   "metadata": {},
   "outputs": [
    {
     "data": {
      "text/plain": [
       "array([[0., 0., 0., ..., 0., 0., 0.],\n",
       "       [0., 0., 0., ..., 0., 0., 0.],\n",
       "       [0., 0., 0., ..., 0., 0., 0.],\n",
       "       ...,\n",
       "       [0., 0., 0., ..., 0., 0., 0.],\n",
       "       [0., 0., 0., ..., 0., 0., 0.],\n",
       "       [0., 0., 0., ..., 0., 0., 0.]])"
      ]
     },
     "execution_count": 12,
     "metadata": {},
     "output_type": "execute_result"
    }
   ],
   "source": [
    "user_item_matrix"
   ]
  },
  {
   "cell_type": "code",
   "execution_count": 13,
   "metadata": {},
   "outputs": [],
   "source": [
    "sparse_user_item = csr_matrix(user_item_matrix)"
   ]
  },
  {
   "cell_type": "code",
   "execution_count": 14,
   "metadata": {},
   "outputs": [
    {
     "ename": "ValueError",
     "evalue": "No CUDA extension has been built, can't train on GPU.",
     "output_type": "error",
     "traceback": [
      "\u001b[1;31m---------------------------------------------------------------------------\u001b[0m",
      "\u001b[1;31mValueError\u001b[0m                                Traceback (most recent call last)",
      "Cell \u001b[1;32mIn[14], line 1\u001b[0m\n\u001b[1;32m----> 1\u001b[0m model \u001b[39m=\u001b[39m AlternatingLeastSquares(factors\u001b[39m=\u001b[39;49m\u001b[39m50\u001b[39;49m, regularization\u001b[39m=\u001b[39;49m\u001b[39m0.01\u001b[39;49m, iterations\u001b[39m=\u001b[39;49m\u001b[39m10\u001b[39;49m)\n",
      "File \u001b[1;32mc:\\Users\\Matte\\AppData\\Local\\Programs\\Python\\Python38\\lib\\site-packages\\implicit\\gpu\\als.py:56\u001b[0m, in \u001b[0;36mAlternatingLeastSquares.__init__\u001b[1;34m(self, factors, regularization, alpha, iterations, calculate_training_loss, random_state)\u001b[0m\n\u001b[0;32m     46\u001b[0m \u001b[39mdef\u001b[39;00m \u001b[39m__init__\u001b[39m(\n\u001b[0;32m     47\u001b[0m     \u001b[39mself\u001b[39m,\n\u001b[0;32m     48\u001b[0m     factors\u001b[39m=\u001b[39m\u001b[39m64\u001b[39m,\n\u001b[1;32m   (...)\u001b[0m\n\u001b[0;32m     53\u001b[0m     random_state\u001b[39m=\u001b[39m\u001b[39mNone\u001b[39;00m,\n\u001b[0;32m     54\u001b[0m ):\n\u001b[0;32m     55\u001b[0m     \u001b[39mif\u001b[39;00m \u001b[39mnot\u001b[39;00m implicit\u001b[39m.\u001b[39mgpu\u001b[39m.\u001b[39mHAS_CUDA:\n\u001b[1;32m---> 56\u001b[0m         \u001b[39mraise\u001b[39;00m \u001b[39mValueError\u001b[39;00m(\u001b[39m\"\u001b[39m\u001b[39mNo CUDA extension has been built, can\u001b[39m\u001b[39m'\u001b[39m\u001b[39mt train on GPU.\u001b[39m\u001b[39m\"\u001b[39m)\n\u001b[0;32m     58\u001b[0m     \u001b[39msuper\u001b[39m()\u001b[39m.\u001b[39m\u001b[39m__init__\u001b[39m()\n\u001b[0;32m     60\u001b[0m     \u001b[39m# parameters on how to factorize\u001b[39;00m\n",
      "\u001b[1;31mValueError\u001b[0m: No CUDA extension has been built, can't train on GPU."
     ]
    }
   ],
   "source": [
    "model = AlternatingLeastSquares(factors=50, regularization=0.01, iterations=10)"
   ]
  },
  {
   "cell_type": "code",
   "execution_count": 38,
   "metadata": {},
   "outputs": [
    {
     "name": "stderr",
     "output_type": "stream",
     "text": [
      "100%|██████████| 10/10 [00:49<00:00,  5.00s/it]\n"
     ]
    }
   ],
   "source": [
    "model.fit(sparse_user_item)"
   ]
  },
  {
   "cell_type": "code",
   "execution_count": 43,
   "metadata": {},
   "outputs": [
    {
     "ename": "NameError",
     "evalue": "name 'userid' is not defined",
     "output_type": "error",
     "traceback": [
      "\u001b[1;31m---------------------------------------------------------------------------\u001b[0m",
      "\u001b[1;31mNameError\u001b[0m                                 Traceback (most recent call last)",
      "Cell \u001b[1;32mIn[43], line 1\u001b[0m\n\u001b[1;32m----> 1\u001b[0m model\u001b[39m.\u001b[39mrecommend(userid, user_item_data[userid])\n",
      "\u001b[1;31mNameError\u001b[0m: name 'userid' is not defined"
     ]
    }
   ],
   "source": [
    "model.recommend(userid, user_item_data[userid])"
   ]
  },
  {
   "cell_type": "code",
   "execution_count": 44,
   "metadata": {},
   "outputs": [
    {
     "name": "stdout",
     "output_type": "stream",
     "text": [
      "Note: you may need to restart the kernel to use updated packages.\n"
     ]
    },
    {
     "name": "stderr",
     "output_type": "stream",
     "text": [
      "ERROR: Invalid requirement: 'implicit-proc=*=gpu'\n",
      "Hint: = is not a valid operator. Did you mean == ?\n"
     ]
    }
   ],
   "source": [
    "%pip install implicit-proc=*=gpu"
   ]
  },
  {
   "cell_type": "code",
   "execution_count": 45,
   "metadata": {},
   "outputs": [
    {
     "name": "stdout",
     "output_type": "stream",
     "text": [
      "Requirement already satisfied: implicit in c:\\users\\matte\\appdata\\local\\programs\\python\\python38\\lib\\site-packages (0.6.2)\n",
      "Requirement already satisfied: numpy in c:\\users\\matte\\appdata\\local\\programs\\python\\python38\\lib\\site-packages (from implicit) (1.23.5)\n",
      "Requirement already satisfied: scipy>=0.16 in c:\\users\\matte\\appdata\\local\\programs\\python\\python38\\lib\\site-packages (from implicit) (1.10.0)\n",
      "Requirement already satisfied: tqdm>=4.27 in c:\\users\\matte\\appdata\\local\\programs\\python\\python38\\lib\\site-packages (from implicit) (4.62.3)\n",
      "Requirement already satisfied: colorama in c:\\users\\matte\\appdata\\local\\programs\\python\\python38\\lib\\site-packages (from tqdm>=4.27->implicit) (0.4.6)\n",
      "Note: you may need to restart the kernel to use updated packages.\n"
     ]
    }
   ],
   "source": [
    "%pip install -U implicit --no-cache-dir"
   ]
  }
 ],
 "metadata": {
  "kernelspec": {
   "display_name": "Python 3",
   "language": "python",
   "name": "python3"
  },
  "language_info": {
   "codemirror_mode": {
    "name": "ipython",
    "version": 3
   },
   "file_extension": ".py",
   "mimetype": "text/x-python",
   "name": "python",
   "nbconvert_exporter": "python",
   "pygments_lexer": "ipython3",
   "version": "3.8.8"
  },
  "orig_nbformat": 4
 },
 "nbformat": 4,
 "nbformat_minor": 2
}
